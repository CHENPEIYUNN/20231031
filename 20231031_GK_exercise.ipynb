{
  "nbformat": 4,
  "nbformat_minor": 0,
  "metadata": {
    "colab": {
      "provenance": []
    },
    "kernelspec": {
      "name": "python3",
      "display_name": "Python 3"
    },
    "language_info": {
      "name": "python"
    }
  },
  "cells": [
    {
      "cell_type": "code",
      "source": [
        "a=int(input('請輸入大於1的正整數'))\n",
        "if (a>2):\n",
        "  x=0\n",
        "  for b in range(1,(a+1)):\n",
        "    n=0\n",
        "    for i in range(1,(b+1)):\n",
        "      if b%i==0:\n",
        "         n+=1\n",
        "    if n==2:\n",
        "       x=b\n",
        "  print(x)\n",
        "else:\n",
        "  print(\"錯誤\")"
      ],
      "metadata": {
        "colab": {
          "base_uri": "https://localhost:8080/"
        },
        "id": "FYtCwLw0pb17",
        "outputId": "e28bb609-cf0b-47e7-df16-5c5c2293419a"
      },
      "execution_count": 2,
      "outputs": [
        {
          "output_type": "stream",
          "name": "stdout",
          "text": [
            "請輸入大於1的正整數8\n",
            "7\n"
          ]
        }
      ]
    },
    {
      "cell_type": "code",
      "source": [
        "n=input('請輸入數字:')\n",
        "n=n.split(',')\n",
        "L=len(n)\n",
        "b=[]\n",
        "for i in range(0,L):\n",
        "  a=0\n",
        "  for j in range(0,L):\n",
        "    if int(n[i])>int(n[j]):\n",
        "      a+=1\n",
        "  b.append(a)\n",
        "print(b)"
      ],
      "metadata": {
        "id": "MJ3qu-QUtMz6",
        "colab": {
          "base_uri": "https://localhost:8080/"
        },
        "outputId": "462af218-0009-4a73-a3a8-8472612d09a4"
      },
      "execution_count": null,
      "outputs": [
        {
          "output_type": "stream",
          "name": "stdout",
          "text": [
            "請輸入數字:8,1,2,2,3\n",
            "[4, 0, 1, 1, 3]\n"
          ]
        }
      ]
    },
    {
      "cell_type": "code",
      "source": [
        "a = input(\"輸入:\")\n",
        "b = len(a)\n",
        "ans = []\n",
        "for i in range(0,b):\n",
        "  num = 0\n",
        "  for j in range(0,b):\n",
        "    if (int(a[j])==1):\n",
        "      if (j>i):\n",
        "        num+=j-i\n",
        "      else:\n",
        "        num+=i-j\n",
        "  ans.append(num)\n",
        "print(ans)\n"
      ],
      "metadata": {
        "colab": {
          "base_uri": "https://localhost:8080/"
        },
        "id": "ZvWyh1f7tb5j",
        "outputId": "d3259046-1415-40e3-8470-251b6fcbd569"
      },
      "execution_count": null,
      "outputs": [
        {
          "output_type": "stream",
          "name": "stdout",
          "text": [
            "輸入:001011\n",
            "[11, 8, 5, 4, 3, 4]\n"
          ]
        }
      ]
    }
  ]
}